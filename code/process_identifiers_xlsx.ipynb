{
 "cells": [
  {
   "cell_type": "code",
   "execution_count": 42,
   "id": "61837705",
   "metadata": {},
   "outputs": [],
   "source": [
    "from pathlib import Path\n",
    "import pandas as pd"
   ]
  },
  {
   "cell_type": "code",
   "execution_count": 43,
   "id": "6dc7ba40",
   "metadata": {},
   "outputs": [],
   "source": [
    "inputfolder = Path(r\"C:\\Users\\jasonjia\\Dropbox\\Projects\\channels_in_macro\\data\\identifiers_xlsx\")\n",
    "outputfolder = Path(r\"C:\\Users\\jasonjia\\Dropbox\\Projects\\channels_in_macro\\data\\identifiers_xlsx_processed\")\n",
    "colstokeep_0 = ['Publication Year','Author','Title','Publication Title','Date','Issue','Pages']\n",
    "colstokeep_1 = ['Author','Title','Pages','filename','jel_e']"
   ]
  },
  {
   "cell_type": "code",
   "execution_count": 44,
   "id": "7a36ebc9",
   "metadata": {},
   "outputs": [
    {
     "name": "stdout",
     "output_type": "stream",
     "text": [
      "C:\\Users\\jasonjia\\Dropbox\\Projects\\channels_in_macro\\data\\identifiers_xlsx\\AER_2015_2021.xlsx\n",
      "df0.shape: (1212, 7)\n",
      "df1.shape: (786, 5)\n",
      "df.shape: (786, 9)\n",
      "C:\\Users\\jasonjia\\Dropbox\\Projects\\channels_in_macro\\data\\identifiers_xlsx\\Econometrica_2015_2021.xlsx\n",
      "df0.shape: (485, 7)\n",
      "df1.shape: (390, 5)\n",
      "df.shape: (390, 9)\n",
      "C:\\Users\\jasonjia\\Dropbox\\Projects\\channels_in_macro\\data\\identifiers_xlsx\\JPE_2015_2021.xlsx\n",
      "df0.shape: (941, 7)\n",
      "df1.shape: (465, 5)\n",
      "df.shape: (465, 9)\n",
      "C:\\Users\\jasonjia\\Dropbox\\Projects\\channels_in_macro\\data\\identifiers_xlsx\\QJE_2015_2021.xlsx\n",
      "df0.shape: (288, 7)\n",
      "df1.shape: (288, 5)\n",
      "df.shape: (288, 9)\n",
      "C:\\Users\\jasonjia\\Dropbox\\Projects\\channels_in_macro\\data\\identifiers_xlsx\\RES_2015_2021.xlsx\n",
      "df0.shape: (461, 7)\n",
      "df1.shape: (458, 5)\n",
      "df.shape: (458, 9)\n"
     ]
    }
   ],
   "source": [
    "for inputfile in inputfolder.iterdir():\n",
    "    if inputfile.suffix == '.xlsx':\n",
    "        print(inputfile)\n",
    "        outputfile = inputfile.stem + \"_processed.xlsx\"\n",
    "        \n",
    "        # Load df0 (Sheet 0, big excel file with citations data)\n",
    "        df0 = pd.read_excel(Path(inputfile), sheet_name = 0)\n",
    "        \n",
    "        # Load df1 (Sheet 1, smaller excel file with manual entry data)\n",
    "        df1 = pd.read_excel(Path(inputfile), sheet_name = 1)\n",
    "        \n",
    "        # Keep select columns in df0\n",
    "        df0 = df0[colstokeep_0]\n",
    "        \n",
    "        # Remove rows where there is no author name (e.g. Front Matter)\n",
    "        # This ensures that there are no entries, e.g. front matter, with the same combination\n",
    "        # of Author (e.g. nan) and Pages (e.g. i-ix).\n",
    "        df0 = df0[df0['Author'].notna()]\n",
    "        \n",
    "        # Keep select columns in df1\n",
    "        df1 = df1[colstokeep_1]\n",
    "        \n",
    "        # Replace nan with 0 for 'jel_e' column.\n",
    "        df1['jel_e'] = df1['jel_e'].fillna(0)\n",
    "\n",
    "        # Print shape of df0 and df1\n",
    "        print(\"df0.shape:\", df0.shape)\n",
    "        print(\"df1.shape:\", df1.shape)\n",
    "       \n",
    "        # Merge based on author and pages. The keys should match 1:1.\n",
    "        df = df0.merge(df1, on=['Author','Pages'], how='inner', suffixes=[None, \"_1\"], validate=\"1:1\")\n",
    "        \n",
    "        # Drop duplicate columns\n",
    "        df.drop('Title_1', axis=1, inplace=True)\n",
    "        \n",
    "        # Print shape of final df\n",
    "        print(\"df.shape:\", df.shape)\n",
    "        \n",
    "        # Check that the number of entries/rows in df is the same as that in df1 and not less - otherwise,\n",
    "        # something is missing/wrong somewhere.\n",
    "        if df.shape[0] < df1.shape[0]:\n",
    "            print(\"Warning: The number of rows in df is less than the number of rows in df1, which should not happen!\")\n",
    "        \n",
    "        # Filter only for entries in 2018-2021 (back when only papers from 2018-2021 were downloaded)\n",
    "        # df_2018 = df[df['Publication Year'] >= 2018]\n",
    "        # df_2018.to_excel(Path(outputfolder/outputfile), index = False)\n",
    "        \n",
    "        # Save final df to excel\n",
    "        df.to_excel(Path(outputfolder/outputfile), index = False)"
   ]
  },
  {
   "cell_type": "code",
   "execution_count": null,
   "id": "c3c22061",
   "metadata": {},
   "outputs": [],
   "source": []
  }
 ],
 "metadata": {
  "kernelspec": {
   "display_name": "Python 3 (ipykernel)",
   "language": "python",
   "name": "python3"
  },
  "language_info": {
   "codemirror_mode": {
    "name": "ipython",
    "version": 3
   },
   "file_extension": ".py",
   "mimetype": "text/x-python",
   "name": "python",
   "nbconvert_exporter": "python",
   "pygments_lexer": "ipython3",
   "version": "3.9.7"
  }
 },
 "nbformat": 4,
 "nbformat_minor": 5
}
