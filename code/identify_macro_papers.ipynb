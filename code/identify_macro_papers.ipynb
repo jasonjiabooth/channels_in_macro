{
 "cells": [
  {
   "cell_type": "code",
   "execution_count": 11,
   "id": "f7173f93",
   "metadata": {},
   "outputs": [],
   "source": [
    "from pathlib import Path\n",
    "import pandas as pd\n",
    "import string"
   ]
  },
  {
   "cell_type": "code",
   "execution_count": 12,
   "id": "d439e5f7",
   "metadata": {},
   "outputs": [],
   "source": [
    "xlsxfolder = Path(r\"C:\\Users\\jasonjia\\Dropbox\\Projects\\channels_in_macro\\data\\identifiers_xlsx_processed\")\n",
    "txtfolder = Path(r\"C:\\Users\\jasonjia\\Dropbox\\Projects\\channels_in_macro\\data\\papers_pdf\")\n",
    "outputfolder = Path(r\"C:\\Users\\jasonjia\\Dropbox\\Projects\\channels_in_macro\\data\\macro_papers\")\n",
    "outputfile = Path(\"macro_papers.xlsx\")"
   ]
  },
  {
   "cell_type": "code",
   "execution_count": 13,
   "id": "14f37ac5",
   "metadata": {},
   "outputs": [],
   "source": [
    "keyword_list = [\"macro\", \"macroeconomic\", \"macroeconomics\", \"fiscal policy\", \"monetary policy\"]"
   ]
  },
  {
   "cell_type": "markdown",
   "id": "77f80b4d",
   "metadata": {},
   "source": [
    "## Functions"
   ]
  },
  {
   "cell_type": "code",
   "execution_count": 14,
   "id": "919ee031",
   "metadata": {},
   "outputs": [],
   "source": [
    "def get_journal_folder(journal):\n",
    "    dict = {'American Economic Review': 'aer', \n",
    "            'Econometrica': 'econometrica',\n",
    "            'Journal of Political Economy': 'jpe',\n",
    "            'Quarterly Journal of Economics': 'qje',\n",
    "            'Review of Economic Studies': 'res'}\n",
    "    return dict[journal]"
   ]
  },
  {
   "cell_type": "code",
   "execution_count": 15,
   "id": "4949615a",
   "metadata": {},
   "outputs": [],
   "source": [
    "def contain_keyword(keyword_list, text):\n",
    "    # Boolean\n",
    "    contain_keyword = any(keyword in text for keyword in keyword_list)\n",
    "    return contain_keyword"
   ]
  },
  {
   "cell_type": "code",
   "execution_count": 16,
   "id": "13a55bb6",
   "metadata": {},
   "outputs": [],
   "source": [
    "def why_macro_paper(row):\n",
    "    # print(\"jel_e: \")\n",
    "    # print(row['jel_e'])\n",
    "    # print(\"contain_keyword: \")\n",
    "    # print(row['contain_keyword'])\n",
    "    \n",
    "    if row['jel_e'] == 1 and row['contain_keyword'] == 0:\n",
    "        return \"jel_e\"\n",
    "    elif row['jel_e'] == 0 and row['contain_keyword'] == 1:\n",
    "        return \"contain_keyword\"\n",
    "    elif row['jel_e'] == 1 and row['contain_keyword'] == 1:\n",
    "        return \"jel_e and contain_keyword\"\n",
    "    else:\n",
    "        return \"not_macro_paper\""
   ]
  },
  {
   "cell_type": "markdown",
   "id": "ea63653f",
   "metadata": {},
   "source": [
    "## Main Code"
   ]
  },
  {
   "cell_type": "code",
   "execution_count": 25,
   "id": "43459013",
   "metadata": {},
   "outputs": [
    {
     "name": "stdout",
     "output_type": "stream",
     "text": [
      "C:\\Users\\jasonjia\\Dropbox\\Projects\\channels_in_macro\\data\\identifiers_xlsx_processed\\AER_2015_2021_processed.xlsx\n",
      "   Publication Year                                             Author  \\\n",
      "0              2021  ARKHANGELSKY, DMITRY; ATHEY, SUSAN; HIRSHBERG,...   \n",
      "1              2021  KARTIK, NAVIN; KLEINER, ANDREAS; VAN WEELDEN, ...   \n",
      "2              2021                 GOEREE, JACOB K.; LOUIS, PHILIPPOS   \n",
      "3              2021     BAILEY, MARTHA J.; SHUQIAO SUN; TIMPE, BRENDEN   \n",
      "4              2021                                         YIQUN CHEN   \n",
      "\n",
      "                                               Title  \\\n",
      "0               Synthetic Difference-in-Differences.   \n",
      "1                     Delegation in Veto Bargaining.   \n",
      "2  M Equilibrium: A Theory of Beliefs and Choices...   \n",
      "3  Prep School for Poor Kids: The Long-Run Impact...   \n",
      "4  Team-Specific Human Capital and Team Performan...   \n",
      "\n",
      "          Publication Title     Date  Issue      Pages      filename  jel_e  \n",
      "0  American Economic Review  2021-12     12  4088-4118  aer.20190159      0  \n",
      "1  American Economic Review  2021-12     12  4046-4087  aer.20201817      0  \n",
      "2  American Economic Review  2021-12     12  4002-4045  aer.20201683      0  \n",
      "3  American Economic Review  2021-12     12  3963-4001  aer.20181801      0  \n",
      "4  American Economic Review  2021-12     12  3923-3962  aer.20201238      0  \n"
     ]
    },
    {
     "ename": "FileNotFoundError",
     "evalue": "[Errno 2] No such file or directory: 'C:\\\\Users\\\\jasonjia\\\\Dropbox\\\\Projects\\\\channels_in_macro\\\\data\\\\papers_pdf\\\\aer\\\\2017\\\\12\\\\aer.20151425.txt'",
     "output_type": "error",
     "traceback": [
      "\u001b[1;31m---------------------------------------------------------------------------\u001b[0m",
      "\u001b[1;31mFileNotFoundError\u001b[0m                         Traceback (most recent call last)",
      "\u001b[1;32m~\\AppData\\Local\\Temp/ipykernel_2988/1254199845.py\u001b[0m in \u001b[0;36m<module>\u001b[1;34m\u001b[0m\n\u001b[0;32m     24\u001b[0m \u001b[1;33m\u001b[0m\u001b[0m\n\u001b[0;32m     25\u001b[0m             \u001b[1;31m# Read txtfile and check if it contains keywords\u001b[0m\u001b[1;33m\u001b[0m\u001b[1;33m\u001b[0m\u001b[0m\n\u001b[1;32m---> 26\u001b[1;33m             \u001b[1;32mwith\u001b[0m \u001b[0mopen\u001b[0m\u001b[1;33m(\u001b[0m\u001b[0mtxtfilepath\u001b[0m\u001b[1;33m,\u001b[0m\u001b[1;34m\"r\"\u001b[0m\u001b[1;33m,\u001b[0m \u001b[0mencoding\u001b[0m\u001b[1;33m=\u001b[0m\u001b[1;34m'utf-8'\u001b[0m\u001b[1;33m)\u001b[0m \u001b[1;32mas\u001b[0m \u001b[0mtxtfile\u001b[0m\u001b[1;33m:\u001b[0m\u001b[1;33m\u001b[0m\u001b[1;33m\u001b[0m\u001b[0m\n\u001b[0m\u001b[0;32m     27\u001b[0m                 \u001b[0mtext\u001b[0m \u001b[1;33m=\u001b[0m \u001b[0mtxtfile\u001b[0m\u001b[1;33m.\u001b[0m\u001b[0mread\u001b[0m\u001b[1;33m(\u001b[0m\u001b[1;33m)\u001b[0m\u001b[1;33m\u001b[0m\u001b[1;33m\u001b[0m\u001b[0m\n\u001b[0;32m     28\u001b[0m                 \u001b[0mtext\u001b[0m \u001b[1;33m=\u001b[0m \u001b[0mtext\u001b[0m\u001b[1;33m.\u001b[0m\u001b[0mlower\u001b[0m\u001b[1;33m(\u001b[0m\u001b[1;33m)\u001b[0m\u001b[1;33m\u001b[0m\u001b[1;33m\u001b[0m\u001b[0m\n",
      "\u001b[1;31mFileNotFoundError\u001b[0m: [Errno 2] No such file or directory: 'C:\\\\Users\\\\jasonjia\\\\Dropbox\\\\Projects\\\\channels_in_macro\\\\data\\\\papers_pdf\\\\aer\\\\2017\\\\12\\\\aer.20151425.txt'"
     ]
    }
   ],
   "source": [
    "df_macro_papers = pd.DataFrame()\n",
    "\n",
    "for xlsxfile in xlsxfolder.iterdir():\n",
    "    if xlsxfile.suffix == '.xlsx':\n",
    "        print(xlsxfile)\n",
    "        df = pd.read_excel(Path(xlsxfile))\n",
    "        print(df.head())\n",
    "        list_contain_keyword = []\n",
    "        list_filepath = []\n",
    "\n",
    "        for index, row in df.iterrows():\n",
    "            year = row['Publication Year']\n",
    "            author = row['Author']\n",
    "            title = row['Title']\n",
    "            journal = row['Publication Title']\n",
    "            date = row['Date']\n",
    "            issue = row['Issue']\n",
    "            filename = row['filename']\n",
    "\n",
    "            # Generate path towards txtfile\n",
    "            txtfilepath = Path(txtfolder / Path(get_journal_folder(journal)) / Path(str(year)) / Path(str(issue)) / Path(str(filename) + \".txt\"))\n",
    "            list_filepath.append(txtfilepath)\n",
    "            # print(txtfilepath)\n",
    "\n",
    "            # Read txtfile and check if it contains keywords\n",
    "            with open(txtfilepath,\"r\", encoding='utf-8') as txtfile:\n",
    "                text = txtfile.read()\n",
    "                text = text.lower()\n",
    "\n",
    "                if contain_keyword(keyword_list, text):\n",
    "                    list_contain_keyword.append(1)\n",
    "                else:\n",
    "                    list_contain_keyword.append(0)\n",
    "\n",
    "        # Add columns to original dataframe\n",
    "        df = df.assign(contain_keyword = list_contain_keyword)\n",
    "        df = df.assign(filepath = list_filepath)\n",
    "\n",
    "        # Determine if paper meets the criteria for a macro paper:\n",
    "        # either classified under JEL:E, or contains any of the specified keywords.\n",
    "\n",
    "        df['is_macro_paper'] = df['jel_e'] | df['contain_keyword']\n",
    "        print(df.shape)\n",
    "\n",
    "        # Only keep macro papers: \n",
    "        df = df[df['is_macro_paper'] == 1]\n",
    "        df['macro_paper_reason'] = df.apply(why_macro_paper, axis = 1)\n",
    "        print(df.shape)\n",
    "        df_macro_papers = df_macro_papers.append(df)\n",
    "\n",
    "df_macro_papers.to_excel(Path(outputfolder / outputfile), index=False)"
   ]
  },
  {
   "cell_type": "code",
   "execution_count": 21,
   "id": "093ad3b5",
   "metadata": {},
   "outputs": [
    {
     "data": {
      "text/html": [
       "<div>\n",
       "<style scoped>\n",
       "    .dataframe tbody tr th:only-of-type {\n",
       "        vertical-align: middle;\n",
       "    }\n",
       "\n",
       "    .dataframe tbody tr th {\n",
       "        vertical-align: top;\n",
       "    }\n",
       "\n",
       "    .dataframe thead th {\n",
       "        text-align: right;\n",
       "    }\n",
       "</style>\n",
       "<table border=\"1\" class=\"dataframe\">\n",
       "  <thead>\n",
       "    <tr style=\"text-align: right;\">\n",
       "      <th></th>\n",
       "    </tr>\n",
       "  </thead>\n",
       "  <tbody>\n",
       "  </tbody>\n",
       "</table>\n",
       "</div>"
      ],
      "text/plain": [
       "Empty DataFrame\n",
       "Columns: []\n",
       "Index: []"
      ]
     },
     "execution_count": 21,
     "metadata": {},
     "output_type": "execute_result"
    }
   ],
   "source": [
    "# Visualization\n",
    "df_macro_papers"
   ]
  },
  {
   "cell_type": "markdown",
   "id": "93c63222",
   "metadata": {},
   "source": [
    "## Tests"
   ]
  },
  {
   "cell_type": "code",
   "execution_count": 104,
   "id": "3b455bdb",
   "metadata": {},
   "outputs": [
    {
     "data": {
      "text/plain": [
       "'econometrica'"
      ]
     },
     "execution_count": 104,
     "metadata": {},
     "output_type": "execute_result"
    }
   ],
   "source": [
    "# Test\n",
    "get_journal_folder(\"Econometrica\")"
   ]
  },
  {
   "cell_type": "code",
   "execution_count": 79,
   "id": "983cbae7",
   "metadata": {},
   "outputs": [
    {
     "data": {
      "text/html": [
       "<div>\n",
       "<style scoped>\n",
       "    .dataframe tbody tr th:only-of-type {\n",
       "        vertical-align: middle;\n",
       "    }\n",
       "\n",
       "    .dataframe tbody tr th {\n",
       "        vertical-align: top;\n",
       "    }\n",
       "\n",
       "    .dataframe thead th {\n",
       "        text-align: right;\n",
       "    }\n",
       "</style>\n",
       "<table border=\"1\" class=\"dataframe\">\n",
       "  <thead>\n",
       "    <tr style=\"text-align: right;\">\n",
       "      <th></th>\n",
       "      <th>0</th>\n",
       "    </tr>\n",
       "  </thead>\n",
       "  <tbody>\n",
       "    <tr>\n",
       "      <th>0</th>\n",
       "      <td>1</td>\n",
       "    </tr>\n",
       "    <tr>\n",
       "      <th>1</th>\n",
       "      <td>1</td>\n",
       "    </tr>\n",
       "    <tr>\n",
       "      <th>2</th>\n",
       "      <td>1</td>\n",
       "    </tr>\n",
       "    <tr>\n",
       "      <th>3</th>\n",
       "      <td>0</td>\n",
       "    </tr>\n",
       "  </tbody>\n",
       "</table>\n",
       "</div>"
      ],
      "text/plain": [
       "   0\n",
       "0  1\n",
       "1  1\n",
       "2  1\n",
       "3  0"
      ]
     },
     "execution_count": 79,
     "metadata": {},
     "output_type": "execute_result"
    }
   ],
   "source": [
    "# Test to check that | works correctly\n",
    "pd.DataFrame([1,1,0,0]) | pd.DataFrame([1,0,1,0])"
   ]
  },
  {
   "cell_type": "code",
   "execution_count": 128,
   "id": "4c0ae961",
   "metadata": {},
   "outputs": [
    {
     "data": {
      "text/plain": [
       "2                contain_keyword\n",
       "5      jel_e and contain_keyword\n",
       "7                contain_keyword\n",
       "8                contain_keyword\n",
       "13     jel_e and contain_keyword\n",
       "                 ...            \n",
       "435              contain_keyword\n",
       "437    jel_e and contain_keyword\n",
       "442              contain_keyword\n",
       "443              contain_keyword\n",
       "444              contain_keyword\n",
       "Name: macro_paper_reason, Length: 234, dtype: object"
      ]
     },
     "execution_count": 128,
     "metadata": {},
     "output_type": "execute_result"
    }
   ],
   "source": [
    "dfcopy['macro_paper_reason'] = dfcopy.apply(why_macro_paper, axis = 1) \n",
    "dfcopy['macro_paper_reason']"
   ]
  }
 ],
 "metadata": {
  "kernelspec": {
   "display_name": "Python 3 (ipykernel)",
   "language": "python",
   "name": "python3"
  },
  "language_info": {
   "codemirror_mode": {
    "name": "ipython",
    "version": 3
   },
   "file_extension": ".py",
   "mimetype": "text/x-python",
   "name": "python",
   "nbconvert_exporter": "python",
   "pygments_lexer": "ipython3",
   "version": "3.9.7"
  }
 },
 "nbformat": 4,
 "nbformat_minor": 5
}
